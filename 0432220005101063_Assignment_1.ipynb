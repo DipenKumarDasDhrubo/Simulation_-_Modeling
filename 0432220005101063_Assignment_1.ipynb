{
  "nbformat": 4,
  "nbformat_minor": 0,
  "metadata": {
    "colab": {
      "provenance": [],
      "authorship_tag": "ABX9TyPP0QFOurnXOm0EFuc7hFNE",
      "include_colab_link": true
    },
    "kernelspec": {
      "name": "python3",
      "display_name": "Python 3"
    },
    "language_info": {
      "name": "python"
    }
  },
  "cells": [
    {
      "cell_type": "markdown",
      "metadata": {
        "id": "view-in-github",
        "colab_type": "text"
      },
      "source": [
        "<a href=\"https://colab.research.google.com/github/DipenKumarDasDhrubo/Simulation_-_Modeling/blob/main/0432220005101063_Assignment_1.ipynb\" target=\"_parent\"><img src=\"https://colab.research.google.com/assets/colab-badge.svg\" alt=\"Open In Colab\"/></a>"
      ]
    },
    {
      "cell_type": "code",
      "execution_count": 15,
      "metadata": {
        "colab": {
          "base_uri": "https://localhost:8080/"
        },
        "id": "_2exgdoBg7A0",
        "outputId": "da768c38-3339-4b77-d183-4ec6385088db"
      },
      "outputs": [
        {
          "output_type": "stream",
          "name": "stdout",
          "text": [
            "Generated Exam Scores: [381 378 387 389 385 382 387 379 381 384 377 381]\n"
          ]
        }
      ],
      "source": [
        "\n",
        "# Import libraries\n",
        "import numpy as np\n",
        "import matplotlib.pyplot as plt\n",
        "import scipy.stats as stats\n",
        "\n",
        "k = 63   # <<--- CHANGE THIS VALUE with your student ID / phone number\n",
        "\n",
        "# Generate dataset of 12 exam scores\n",
        "np.random.seed(42)  # For reproducibility (you may remove this line)\n",
        "exam_scores = 60 + np.random.randint(0, 15, size=12) + (k * 5)\n",
        "print(\"Generated Exam Scores:\", exam_scores)\n"
      ]
    },
    {
      "cell_type": "code",
      "source": [
        "# Null Hypothesis (H0): Population mean = 65\n",
        "# Alternative Hypothesis (H1): Population mean ≠ 65\n",
        "mu = 65\n",
        "print(\"\\nH0: Population mean = 65\")\n",
        "print(\"H1: Population mean ≠ 65\")\n"
      ],
      "metadata": {
        "colab": {
          "base_uri": "https://localhost:8080/"
        },
        "id": "vq2nnObahQlw",
        "outputId": "a7009ba2-cf4d-4e74-c210-c2b6eee6b97e"
      },
      "execution_count": 17,
      "outputs": [
        {
          "output_type": "stream",
          "name": "stdout",
          "text": [
            "\n",
            "H0: Population mean = 65\n",
            "H1: Population mean ≠ 65\n"
          ]
        }
      ]
    },
    {
      "cell_type": "code",
      "source": [
        "# Perform one-sample t-test\n",
        "t_stat, p_value = stats.ttest_1samp(exam_scores, mu)\n",
        "\n",
        "print(\"\\n--- One-Sample t-test Results ---\")\n",
        "print(f\"t-statistic = {t_stat:.4f}\")\n",
        "print(f\"p-value     = {p_value:.4f}\")\n"
      ],
      "metadata": {
        "colab": {
          "base_uri": "https://localhost:8080/"
        },
        "id": "xrfTDlDMhS8z",
        "outputId": "dd0c5fa6-7c56-4252-8302-9ddcfda4ba15"
      },
      "execution_count": 18,
      "outputs": [
        {
          "output_type": "stream",
          "name": "stdout",
          "text": [
            "\n",
            "--- One-Sample t-test Results ---\n",
            "t-statistic = 287.6366\n",
            "p-value     = 0.0000\n"
          ]
        }
      ]
    },
    {
      "cell_type": "code",
      "source": [
        "# Calculate 95% Confidence Interval\n",
        "n = len(exam_scores)\n",
        "mean = np.mean(exam_scores)\n",
        "sem = stats.sem(exam_scores)   # standard error\n",
        "confidence = 0.95\n",
        "\n",
        "ci = stats.t.interval(confidence, df=n-1, loc=mean, scale=sem)\n",
        "\n",
        "print(\"\\n--- Confidence Interval ---\")\n",
        "print(f\"Sample Mean = {mean:.2f}\")\n",
        "print(f\"95% CI = {ci}\")\n"
      ],
      "metadata": {
        "colab": {
          "base_uri": "https://localhost:8080/"
        },
        "id": "dKnRgDkHhU2g",
        "outputId": "a586c6a0-60a5-4099-9af7-307654deb855"
      },
      "execution_count": 19,
      "outputs": [
        {
          "output_type": "stream",
          "name": "stdout",
          "text": [
            "\n",
            "--- Confidence Interval ---\n",
            "Sample Mean = 382.58\n",
            "95% CI = (np.float64(380.1531968659404), np.float64(385.0134698007262))\n"
          ]
        }
      ]
    },
    {
      "cell_type": "code",
      "source": [
        "# Dicision\n",
        "alpha = 0.05\n",
        "\n",
        "print(\"\\n--- Decision ---\")\n",
        "if p_value < alpha:\n",
        "    print(\"Reject H0 → Sample mean is significantly different from 65\")\n",
        "else:\n",
        "    print(\"Fail to Reject H0 → Sample mean is NOT significantly different from 65\")\n"
      ],
      "metadata": {
        "colab": {
          "base_uri": "https://localhost:8080/"
        },
        "id": "EJVm1_1qhWzH",
        "outputId": "1250c4b9-055d-46c4-8a82-518abae6d815"
      },
      "execution_count": 21,
      "outputs": [
        {
          "output_type": "stream",
          "name": "stdout",
          "text": [
            "\n",
            "--- Decision ---\n",
            "Reject H0 → Sample mean is significantly different from 65\n"
          ]
        }
      ]
    },
    {
      "cell_type": "code",
      "source": [
        "# Plot sample mean with error bars (±1 SEM) and hypothesized mean\n",
        "plt.errorbar(1, mean, yerr=sem, fmt='o', capsize=5, label='Sample Mean (±1 SEM)')\n",
        "plt.axhline(mu, color='red', linestyle='--', label='Hypothesized Mean = 65')\n",
        "plt.xlim(0, 2)\n",
        "plt.ylabel(\"Exam Scores\")\n",
        "plt.title(\"One-Sample t-Test Visualization\")\n",
        "plt.legend()\n",
        "plt.show()\n"
      ],
      "metadata": {
        "colab": {
          "base_uri": "https://localhost:8080/",
          "height": 452
        },
        "id": "0irZKbCUhd2B",
        "outputId": "7f16f684-aa91-4609-ec59-dda75e473a8c"
      },
      "execution_count": 22,
      "outputs": [
        {
          "output_type": "display_data",
          "data": {
            "text/plain": [
              "<Figure size 640x480 with 1 Axes>"
            ],
            "image/png": "[encoded data removed]"
          },
          "metadata": {}
        }
      ]
    }
  ]
}