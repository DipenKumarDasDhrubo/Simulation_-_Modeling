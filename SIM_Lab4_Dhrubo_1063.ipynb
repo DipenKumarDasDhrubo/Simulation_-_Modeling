{
  "nbformat": 4,
  "nbformat_minor": 0,
  "metadata": {
    "colab": {
      "provenance": []
    },
    "kernelspec": {
      "name": "python3",
      "display_name": "Python 3"
    },
    "language_info": {
      "name": "python"
    }
  },
  "cells": [
    {
      "cell_type": "code",
      "execution_count": 17,
      "metadata": {
        "id": "Q98oiPlSjKjD"
      },
      "outputs": [],
      "source": [
        "import numpy as np\n",
        "from sympy import Matrix\n",
        "import matplotlib.pyplot as plt\n",
        "import seaborn as sns\n",
        "import random\n",
        "\n",
        "\n",
        "R = 63 #student_id\n",
        "num_points = 200 * 15 #15_as_name"
      ]
    },
    {
      "cell_type": "code",
      "source": [
        "# 2. Generate points using two different random methods\n",
        "def generate_points(num_points, R):\n",
        "  inside = 0\n",
        "  outside = 0\n",
        "\n",
        "  # Half using random.uniform()\n",
        "  for _ in range(num_points // 2):\n",
        "    x = random.uniform(0, R / 10)\n",
        "    y = random.uniform(0, R / 10)\n",
        "    if is_inside_circle(x, y, R):\n",
        "      inside += 1\n",
        "    else:\n",
        "      outside += 1\n",
        "\n",
        "  # Half using numpy.random.rand() scaled to range\n",
        "  points = np.random.rand(num_points // 2, 2) * (R / 10)\n",
        "  for x, y in points:\n",
        "    if is_inside_circle(x, y, R):\n",
        "      inside += 1\n",
        "    else:\n",
        "      outside += 1\n",
        "\n",
        "  return inside, outside\n",
        "\n",
        "# 3. Keep a running count of points\n",
        "inside_count, outside_count = generate_points(num_points, R)\n",
        "print(\"Points inside the circle:\", inside_count)\n",
        "print(\"Points outside the circle:\", outside_count)"
      ],
      "metadata": {
        "colab": {
          "base_uri": "https://localhost:8080/"
        },
        "id": "5pKy1qn_0YQT",
        "outputId": "0bae5dff-10f2-4807-c40d-682c3a97be85"
      },
      "execution_count": 18,
      "outputs": [
        {
          "output_type": "stream",
          "name": "stdout",
          "text": [
            "Points inside the circle: 2340\n",
            "Points outside the circle: 660\n"
          ]
        }
      ]
    },
    {
      "cell_type": "code",
      "source": [
        "# Part 3 - Output & Analysis\n",
        "def estimate_pi_adjusted(num_points, R):\n",
        "    inside, _ = generate_points(num_points, R)\n",
        "    radius = R / 10\n",
        "    # Adjusted formula: π ≈ 4 * (Points inside / Total points) * (1 / r^2)\n",
        "    estimated_pi = 4 * (inside / num_points) * (1 / (radius ** 2))\n",
        "    math_pi = np.pi\n",
        "    error = abs(estimated_pi - math_pi)\n",
        "    return inside, estimated_pi, error\n",
        "\n",
        "# Minimum points from Part 1\n",
        "min_points = num_points\n",
        "point_multiples = [min_points, 2 * min_points, 3 * min_points, 4 * min_points, 5 * min_points]\n",
        "\n",
        "# Print results in tabular format\n",
        "print(\"Range Used | Total Points | Points Inside | Estimated π | Error from math.pi\")\n",
        "for points in point_multiples:\n",
        "    points_inside, estimated_pi, error = estimate_pi_adjusted(points, R)\n",
        "    print(f\"{R/10} | {points} | {points_inside} | {estimated_pi:.6f} | {error:.6f}\")"
      ],
      "metadata": {
        "colab": {
          "base_uri": "https://localhost:8080/"
        },
        "id": "rBYRGIWz0cPZ",
        "outputId": "9146fdde-72bf-4cb5-c83e-ef142f4a461d"
      },
      "execution_count": 19,
      "outputs": [
        {
          "output_type": "stream",
          "name": "stdout",
          "text": [
            "Range Used | Total Points | Points Inside | Estimated π | Error from math.pi\n",
            "6.3 | 3000 | 2336 | 0.078475 | 3.063118\n",
            "6.3 | 6000 | 4687 | 0.078727 | 3.062866\n",
            "6.3 | 9000 | 7031 | 0.078732 | 3.062860\n",
            "6.3 | 12000 | 9356 | 0.078576 | 3.063017\n",
            "6.3 | 15000 | 11787 | 0.079194 | 3.062399\n"
          ]
        }
      ]
    }
  ]
}